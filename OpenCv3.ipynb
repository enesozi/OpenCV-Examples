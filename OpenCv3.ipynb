{
 "cells": [
  {
   "cell_type": "code",
   "execution_count": 1,
   "metadata": {},
   "outputs": [],
   "source": [
    "# Import required modules\n",
    "import cv2 as cv\n",
    "import glob"
   ]
  },
  {
   "cell_type": "code",
   "execution_count": 2,
   "metadata": {},
   "outputs": [],
   "source": [
    "# After loading video, we parse it into frames.\n",
    "# Then, we process only specific frames corresponding to seconds of the video\n",
    "# At last, we save those frames as JPEG file \n",
    "\n",
    "file_name = 'samples/data/Megamind.avi'\n",
    "vidcap = cv.VideoCapture(file_name)\n",
    "fps = vidcap.get(cv.cv2.CAP_PROP_FPS)\n",
    "total_frames = vidcap.get(cv.cv2.CAP_PROP_FRAME_COUNT)\n",
    "frame = 0\n",
    "sec = 0\n",
    "\n",
    "while frame < total_frames:\n",
    "    vidcap.set(cv.cv2.CAP_PROP_POS_FRAMES,frame)\n",
    "    success,image = vidcap.read()\n",
    "    if success:\n",
    "        cv.imwrite(\"movie_sec_%d.jpg\" % sec, image)\n",
    "        frame += fps\n",
    "        sec += 1\n",
    "    else:\n",
    "        break"
   ]
  },
  {
   "cell_type": "code",
   "execution_count": 3,
   "metadata": {},
   "outputs": [
    {
     "data": {
      "text/plain": [
       "['./movie_sec_6.jpg',\n",
       " './movie_sec_4.jpg',\n",
       " './movie_sec_3.jpg',\n",
       " './movie_sec_8.jpg',\n",
       " './movie_sec_0.jpg',\n",
       " './movie_sec_2.jpg',\n",
       " './movie_sec_5.jpg',\n",
       " './movie_sec_11.jpg',\n",
       " './movie_sec_10.jpg',\n",
       " './movie_sec_7.jpg',\n",
       " './movie_sec_1.jpg',\n",
       " './movie_sec_9.jpg']"
      ]
     },
     "execution_count": 3,
     "metadata": {},
     "output_type": "execute_result"
    }
   ],
   "source": [
    "# Get images saved \n",
    "files = glob.glob('./movie_sec_*.jpg')\n",
    "files"
   ]
  },
  {
   "cell_type": "code",
   "execution_count": 4,
   "metadata": {},
   "outputs": [],
   "source": [
    "# load cascade classifier training files\n",
    "face_cascade = cv.CascadeClassifier('data/haarcascades/haarcascade_frontalface_alt2.xml')\n",
    "eye_cascade = cv.CascadeClassifier('data/haarcascades/haarcascade_eye_tree_eyeglasses.xml')"
   ]
  },
  {
   "cell_type": "code",
   "execution_count": 5,
   "metadata": {},
   "outputs": [],
   "source": [
    "for file in files:\n",
    "    img = cv.imread(file)\n",
    "    gray_img = cv.cvtColor(img, cv.COLOR_BGR2GRAY)\n",
    "    faces = face_cascade.detectMultiScale(gray_img, 1.1, 5)\n",
    "    if len(faces) > 0:\n",
    "        for (x,y,w,h) in faces:\n",
    "            cv.rectangle(img,(x,y),(x+w,y+h),(255,0,0),2)\n",
    "            roi_gray = gray_img[y:y+h, x:x+w]\n",
    "            roi_color = img[y:y+h, x:x+w]\n",
    "            eyes = eye_cascade.detectMultiScale(roi_gray)\n",
    "            for (ex,ey,ew,eh) in eyes:\n",
    "                cv.rectangle(roi_color,(ex,ey),(ex+ew,ey+eh),(0,255,0),2)\n",
    "        cv.imshow('img',img)\n",
    "        cv.waitKey(0)\n",
    "        cv.destroyAllWindows()    "
   ]
  },
  {
   "cell_type": "markdown",
   "metadata": {},
   "source": [
    "### References\n",
    "[OpenCV-Official-Doc](https://docs.opencv.org/3.4.1/d7/d8b/tutorial_py_face_detection.html)\n",
    "\n"
   ]
  }
 ],
 "metadata": {
  "kernelspec": {
   "display_name": "ipyenv",
   "language": "python",
   "name": "ipyenv"
  },
  "language_info": {
   "codemirror_mode": {
    "name": "ipython",
    "version": 3
   },
   "file_extension": ".py",
   "mimetype": "text/x-python",
   "name": "python",
   "nbconvert_exporter": "python",
   "pygments_lexer": "ipython3",
   "version": "3.6.3"
  }
 },
 "nbformat": 4,
 "nbformat_minor": 2
}
